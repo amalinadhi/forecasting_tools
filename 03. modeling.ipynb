{
 "cells": [
  {
   "cell_type": "code",
   "execution_count": 43,
   "id": "01cc67a3-067c-4e46-aa9c-fdcc948bd8ea",
   "metadata": {},
   "outputs": [],
   "source": [
    "import pandas as pd\n",
    "from src import utils\n",
    "\n",
    "from xgboost import XGBRegressor"
   ]
  },
  {
   "cell_type": "code",
   "execution_count": 72,
   "id": "1ce98558-a64d-402b-86a7-935bfd682f67",
   "metadata": {},
   "outputs": [
    {
     "data": {
      "text/plain": [
       "{'raw_dataset_path': 'data/raw/sales_history.csv',\n",
       " 'dataset_path': 'data/output/data.pkl',\n",
       " 'dataset_train_path': 'data/output/data_train.pkl',\n",
       " 'dataset_test_path': 'data/output/data_test.pkl',\n",
       " 'X_train_path': 'data/output/X_train.pkl',\n",
       " 'X_train_clean_path': 'data/output/X_train_clean.pkl',\n",
       " 'y_train_path': 'data/output/y_train.pkl',\n",
       " 'X_test_path': 'data/output/X_test.pkl',\n",
       " 'X_test_clean_path': 'data/output/X_test_clean.pkl',\n",
       " 'y_test_path': 'data/output/y_test.pkl',\n",
       " 'best_model_path': 'model/best_model.pkl',\n",
       " 'datetime_col': 'Date',\n",
       " 'features_col': ['Year', 'Month', 'Day'],\n",
       " 'target_col': 'Weekly_Sales',\n",
       " 'last_date_train': '2012-01',\n",
       " 'n_splits': 10,\n",
       " 'test_size': 1,\n",
       " 'param_grid': {'n_estimators': [5, 10, 25, 50, 100, 200],\n",
       "  'max_depth': [5, 10, 25, 50, 100, 200]}}"
      ]
     },
     "execution_count": 72,
     "metadata": {},
     "output_type": "execute_result"
    }
   ],
   "source": [
    "CONFIG_FILE = utils.config_load()\n",
    "CONFIG_FILE"
   ]
  },
  {
   "cell_type": "markdown",
   "id": "915391bd-efbc-47d6-bf4d-d01604ae64cf",
   "metadata": {},
   "source": [
    "- Import data train & test"
   ]
  },
  {
   "cell_type": "code",
   "execution_count": 56,
   "id": "7a2706ee-1e5a-4496-b49b-7480f6b0a661",
   "metadata": {},
   "outputs": [
    {
     "name": "stdout",
     "output_type": "stream",
     "text": [
      "X_train shape : (100, 6)\n",
      "y_train shape : (100,)\n",
      "X_test shape  : (43, 6)\n",
      "y_test shape  : (43,)\n"
     ]
    }
   ],
   "source": [
    "# Load\n",
    "X_train_clean = utils.pickle_load(CONFIG_FILE['X_train_clean_path'])\n",
    "y_train = utils.pickle_load(CONFIG_FILE['y_train_path'])\n",
    "X_test_clean = utils.pickle_load(CONFIG_FILE['X_test_clean_path'])\n",
    "y_test = utils.pickle_load(CONFIG_FILE['y_test_path'])\n",
    "\n",
    "# Validate\n",
    "print('X_train shape :', X_train_clean.shape)\n",
    "print('y_train shape :', y_train.shape)\n",
    "print('X_test shape  :', X_test_clean.shape)\n",
    "print('y_test shape  :', y_test.shape)"
   ]
  },
  {
   "cell_type": "markdown",
   "id": "d4b83843-2e32-4102-ab06-6f29c6600b28",
   "metadata": {},
   "source": [
    "- Create modeling"
   ]
  },
  {
   "cell_type": "code",
   "execution_count": 57,
   "id": "f68f423b-d0ee-4e24-a1f3-cdac910f23f8",
   "metadata": {},
   "outputs": [],
   "source": [
    "from sklearn.model_selection import TimeSeriesSplit\n",
    "from sklearn.metrics import mean_absolute_percentage_error\n",
    "from itertools import product\n",
    "\n",
    "import copy\n",
    "import numpy as np"
   ]
  },
  {
   "cell_type": "code",
   "execution_count": 61,
   "id": "79c3e68a-ab09-4ca2-8fb7-884cd8afb46f",
   "metadata": {},
   "outputs": [],
   "source": [
    "def time_series_search_cv(estimator=XGBRegressor):\n",
    "    \"\"\"Perform hyperparameter search with timeseries CV\"\"\"\n",
    "    # Initialize\n",
    "    param_list = []\n",
    "    error_train_list = []\n",
    "    error_test_list = []\n",
    "    estimator_ = copy.deepcopy(estimator)\n",
    "    cols = CONFIG_FILE['features_col']\n",
    "    n_splits = CONFIG_FILE['n_splits']\n",
    "    test_size = CONFIG_FILE['test_size']\n",
    "    param_grid = CONFIG_FILE['param_grid']\n",
    "\n",
    "    # Load Data\n",
    "    X = utils.pickle_load(CONFIG_FILE['X_train_clean_path'])\n",
    "    y = utils.pickle_load(CONFIG_FILE['y_train_path'])\n",
    "    \n",
    "    # Create all combination\n",
    "    combi_list = product(*[val for _, val in param_grid.items()])\n",
    "    \n",
    "    # Generate all time series cv\n",
    "    tscv = TimeSeriesSplit(n_splits=n_splits, test_size=test_size)\n",
    "    \n",
    "    # Iterate over all parameter combination\n",
    "    for k, vals in enumerate(combi_list):\n",
    "        # Get the combi key\n",
    "        combi = {key:val for key, val in zip(param_grid.keys(), vals)}\n",
    "        \n",
    "        # Iterate over timeseries splitting\n",
    "        error_train_cv = []\n",
    "        error_test_cv = []\n",
    "        for i, (train_idx, test_idx) in enumerate(tscv.split(X)):\n",
    "            # Get the train & test data\n",
    "            X_train_i = X[cols].iloc[train_idx]\n",
    "            y_train_i = y.iloc[train_idx]\n",
    "            X_test_i = X[cols].iloc[test_idx]\n",
    "            y_test_i = y.loc[test_idx]\n",
    "            \n",
    "            # Initate the model\n",
    "            mdl = estimator_(**combi)\n",
    "            \n",
    "            # Train model\n",
    "            mdl.fit(X_train_i, y_train_i)\n",
    "            \n",
    "            # Predict for evaluation\n",
    "            y_train_pred = mdl.predict(X_train_i)\n",
    "            y_test_pred = mdl.predict(X_test_i)\n",
    "            \n",
    "            # Evaluate\n",
    "            mape_train = mean_absolute_percentage_error(y_train_i, y_train_pred)\n",
    "            mape_test = mean_absolute_percentage_error(y_test_i, y_test_pred)\n",
    "            \n",
    "            # append results\n",
    "            error_train_cv.append(mape_train)\n",
    "            error_test_cv.append(mape_test)\n",
    "            \n",
    "        # Average the error_train & error_test\n",
    "        error_train_cv_avg = np.mean(error_train_cv)\n",
    "        error_test_cv_avg = np.mean(error_test_cv)\n",
    "        \n",
    "        # Append\n",
    "        error_train_list.append(error_train_cv_avg)\n",
    "        error_test_list.append(error_test_cv_avg)\n",
    "        param_list.append(combi)\n",
    "        \n",
    "        # Print out\n",
    "        print(f'try: {k:2d}, combi_test: {combi}, train_cv: {error_train_cv_avg:.4e}, test_cv: {error_test_cv_avg:.4e}')\n",
    "        \n",
    "    return param_list, error_train_list, error_test_list\n",
    "        "
   ]
  },
  {
   "cell_type": "code",
   "execution_count": 62,
   "id": "67800357-503b-4ad4-bc44-24fef19478f0",
   "metadata": {},
   "outputs": [
    {
     "name": "stdout",
     "output_type": "stream",
     "text": [
      "try:  0, combi_test: {'n_estimators': 5, 'max_depth': 5}, train_cv: 1.2865e-01, test_cv: 1.2831e-01\n",
      "try:  1, combi_test: {'n_estimators': 5, 'max_depth': 10}, train_cv: 8.0580e-02, test_cv: 1.0220e-01\n",
      "try:  2, combi_test: {'n_estimators': 5, 'max_depth': 25}, train_cv: 8.0278e-02, test_cv: 1.0220e-01\n",
      "try:  3, combi_test: {'n_estimators': 5, 'max_depth': 50}, train_cv: 8.0278e-02, test_cv: 1.0220e-01\n",
      "try:  4, combi_test: {'n_estimators': 5, 'max_depth': 100}, train_cv: 8.0278e-02, test_cv: 1.0220e-01\n",
      "try:  5, combi_test: {'n_estimators': 5, 'max_depth': 200}, train_cv: 8.0278e-02, test_cv: 1.0220e-01\n",
      "try:  6, combi_test: {'n_estimators': 10, 'max_depth': 5}, train_cv: 9.1107e-02, test_cv: 1.1675e-01\n",
      "try:  7, combi_test: {'n_estimators': 10, 'max_depth': 10}, train_cv: 2.7385e-02, test_cv: 1.1205e-01\n",
      "try:  8, combi_test: {'n_estimators': 10, 'max_depth': 25}, train_cv: 2.7304e-02, test_cv: 1.1200e-01\n",
      "try:  9, combi_test: {'n_estimators': 10, 'max_depth': 50}, train_cv: 2.7304e-02, test_cv: 1.1200e-01\n",
      "try: 10, combi_test: {'n_estimators': 10, 'max_depth': 100}, train_cv: 2.7304e-02, test_cv: 1.1200e-01\n",
      "try: 11, combi_test: {'n_estimators': 10, 'max_depth': 200}, train_cv: 2.7304e-02, test_cv: 1.1200e-01\n",
      "try: 12, combi_test: {'n_estimators': 25, 'max_depth': 5}, train_cv: 4.8946e-02, test_cv: 9.5915e-02\n",
      "try: 13, combi_test: {'n_estimators': 25, 'max_depth': 10}, train_cv: 2.1993e-03, test_cv: 1.3877e-01\n",
      "try: 14, combi_test: {'n_estimators': 25, 'max_depth': 25}, train_cv: 1.8719e-03, test_cv: 1.3953e-01\n",
      "try: 15, combi_test: {'n_estimators': 25, 'max_depth': 50}, train_cv: 1.8719e-03, test_cv: 1.3953e-01\n",
      "try: 16, combi_test: {'n_estimators': 25, 'max_depth': 100}, train_cv: 1.8719e-03, test_cv: 1.3953e-01\n",
      "try: 17, combi_test: {'n_estimators': 25, 'max_depth': 200}, train_cv: 1.8719e-03, test_cv: 1.3953e-01\n",
      "try: 18, combi_test: {'n_estimators': 50, 'max_depth': 5}, train_cv: 1.6638e-02, test_cv: 9.3486e-02\n",
      "try: 19, combi_test: {'n_estimators': 50, 'max_depth': 10}, train_cv: 5.2430e-05, test_cv: 1.4128e-01\n",
      "try: 20, combi_test: {'n_estimators': 50, 'max_depth': 25}, train_cv: 3.1395e-05, test_cv: 1.4229e-01\n",
      "try: 21, combi_test: {'n_estimators': 50, 'max_depth': 50}, train_cv: 3.1395e-05, test_cv: 1.4229e-01\n",
      "try: 22, combi_test: {'n_estimators': 50, 'max_depth': 100}, train_cv: 3.1395e-05, test_cv: 1.4229e-01\n",
      "try: 23, combi_test: {'n_estimators': 50, 'max_depth': 200}, train_cv: 3.1395e-05, test_cv: 1.4229e-01\n",
      "try: 24, combi_test: {'n_estimators': 100, 'max_depth': 5}, train_cv: 1.9992e-03, test_cv: 9.4454e-02\n",
      "try: 25, combi_test: {'n_estimators': 100, 'max_depth': 10}, train_cv: 1.2735e-07, test_cv: 1.4132e-01\n",
      "try: 26, combi_test: {'n_estimators': 100, 'max_depth': 25}, train_cv: 1.1134e-07, test_cv: 1.4234e-01\n",
      "try: 27, combi_test: {'n_estimators': 100, 'max_depth': 50}, train_cv: 1.1134e-07, test_cv: 1.4234e-01\n",
      "try: 28, combi_test: {'n_estimators': 100, 'max_depth': 100}, train_cv: 1.1134e-07, test_cv: 1.4234e-01\n",
      "try: 29, combi_test: {'n_estimators': 100, 'max_depth': 200}, train_cv: 1.1134e-07, test_cv: 1.4234e-01\n",
      "try: 30, combi_test: {'n_estimators': 200, 'max_depth': 5}, train_cv: 4.2248e-05, test_cv: 9.4734e-02\n",
      "try: 31, combi_test: {'n_estimators': 200, 'max_depth': 10}, train_cv: 1.2090e-07, test_cv: 1.4132e-01\n",
      "try: 32, combi_test: {'n_estimators': 200, 'max_depth': 25}, train_cv: 1.1134e-07, test_cv: 1.4234e-01\n",
      "try: 33, combi_test: {'n_estimators': 200, 'max_depth': 50}, train_cv: 1.1134e-07, test_cv: 1.4234e-01\n",
      "try: 34, combi_test: {'n_estimators': 200, 'max_depth': 100}, train_cv: 1.1134e-07, test_cv: 1.4234e-01\n",
      "try: 35, combi_test: {'n_estimators': 200, 'max_depth': 200}, train_cv: 1.1134e-07, test_cv: 1.4234e-01\n"
     ]
    }
   ],
   "source": [
    "param_list, error_train_list, error_test_list = time_series_search_cv()"
   ]
  },
  {
   "cell_type": "code",
   "execution_count": 70,
   "metadata": {},
   "outputs": [],
   "source": [
    "def choose_best_model(param_list, error_train_list, error_test_list, is_return=False):\n",
    "    # Load config file data\n",
    "    X = utils.pickle_load(CONFIG_FILE['X_train_clean_path'])\n",
    "    y = utils.pickle_load(CONFIG_FILE['y_train_path'])\n",
    "    cols = CONFIG_FILE['features_col']\n",
    "    \n",
    "    # Get model summary\n",
    "    tuning_df = pd.DataFrame({\n",
    "        'params': param_list,\n",
    "        'cv_train': error_train_list,\n",
    "        'cv_test': error_test_list\n",
    "    })\n",
    "\n",
    "    # Find the best parameters\n",
    "    best_param = tuning_df['params'].iloc[tuning_df['cv_test'].argmin()]\n",
    "\n",
    "    # Retrain the model\n",
    "    best_model = XGBRegressor(**best_param)\n",
    "    best_model.fit(X[cols], y)\n",
    "\n",
    "    # Dump model\n",
    "    utils.pickle_dump(best_model, CONFIG_FILE['best_model_path'])\n",
    "\n",
    "    if is_return:\n",
    "        return best_model"
   ]
  },
  {
   "cell_type": "code",
   "execution_count": 73,
   "metadata": {},
   "outputs": [
    {
     "name": "stdout",
     "output_type": "stream",
     "text": [
      "Data has been dumped to path: model/best_model.pkl\n"
     ]
    }
   ],
   "source": [
    "best_model = choose_best_model(param_list, error_train_list, error_test_list, is_return=True)"
   ]
  },
  {
   "cell_type": "markdown",
   "metadata": {},
   "source": [
    "Visualize"
   ]
  },
  {
   "cell_type": "code",
   "execution_count": 74,
   "id": "1631dd5e-8aeb-4cbf-8f1c-396c08ef3f13",
   "metadata": {},
   "outputs": [],
   "source": [
    "y_test_pred = best_model.predict(X_test_clean[CONFIG_FILE['features_col']])\n",
    "y_test_pred = pd.DataFrame(y_test_pred,\n",
    "                           index=y_test.index)"
   ]
  },
  {
   "cell_type": "code",
   "execution_count": 75,
   "id": "ae59525a-4807-4edc-920f-845123dee339",
   "metadata": {},
   "outputs": [
    {
     "data": {
      "text/html": [
       "<div>\n",
       "<style scoped>\n",
       "    .dataframe tbody tr th:only-of-type {\n",
       "        vertical-align: middle;\n",
       "    }\n",
       "\n",
       "    .dataframe tbody tr th {\n",
       "        vertical-align: top;\n",
       "    }\n",
       "\n",
       "    .dataframe thead th {\n",
       "        text-align: right;\n",
       "    }\n",
       "</style>\n",
       "<table border=\"1\" class=\"dataframe\">\n",
       "  <thead>\n",
       "    <tr style=\"text-align: right;\">\n",
       "      <th></th>\n",
       "      <th>Store</th>\n",
       "      <th>Dept</th>\n",
       "      <th>Date</th>\n",
       "      <th>Year</th>\n",
       "      <th>Month</th>\n",
       "      <th>Day</th>\n",
       "      <th>Weekly_Sales</th>\n",
       "    </tr>\n",
       "  </thead>\n",
       "  <tbody>\n",
       "    <tr>\n",
       "      <th>0</th>\n",
       "      <td>1</td>\n",
       "      <td>1</td>\n",
       "      <td>2010-02-05</td>\n",
       "      <td>2010</td>\n",
       "      <td>2</td>\n",
       "      <td>5</td>\n",
       "      <td>24924.50</td>\n",
       "    </tr>\n",
       "    <tr>\n",
       "      <th>1</th>\n",
       "      <td>1</td>\n",
       "      <td>1</td>\n",
       "      <td>2010-02-12</td>\n",
       "      <td>2010</td>\n",
       "      <td>2</td>\n",
       "      <td>12</td>\n",
       "      <td>46039.49</td>\n",
       "    </tr>\n",
       "    <tr>\n",
       "      <th>2</th>\n",
       "      <td>1</td>\n",
       "      <td>1</td>\n",
       "      <td>2010-02-19</td>\n",
       "      <td>2010</td>\n",
       "      <td>2</td>\n",
       "      <td>19</td>\n",
       "      <td>41595.55</td>\n",
       "    </tr>\n",
       "    <tr>\n",
       "      <th>3</th>\n",
       "      <td>1</td>\n",
       "      <td>1</td>\n",
       "      <td>2010-02-26</td>\n",
       "      <td>2010</td>\n",
       "      <td>2</td>\n",
       "      <td>26</td>\n",
       "      <td>19403.54</td>\n",
       "    </tr>\n",
       "    <tr>\n",
       "      <th>4</th>\n",
       "      <td>1</td>\n",
       "      <td>1</td>\n",
       "      <td>2010-03-05</td>\n",
       "      <td>2010</td>\n",
       "      <td>3</td>\n",
       "      <td>5</td>\n",
       "      <td>21827.90</td>\n",
       "    </tr>\n",
       "  </tbody>\n",
       "</table>\n",
       "</div>"
      ],
      "text/plain": [
       "   Store  Dept       Date  Year  Month  Day  Weekly_Sales\n",
       "0      1     1 2010-02-05  2010      2    5      24924.50\n",
       "1      1     1 2010-02-12  2010      2   12      46039.49\n",
       "2      1     1 2010-02-19  2010      2   19      41595.55\n",
       "3      1     1 2010-02-26  2010      2   26      19403.54\n",
       "4      1     1 2010-03-05  2010      3    5      21827.90"
      ]
     },
     "execution_count": 75,
     "metadata": {},
     "output_type": "execute_result"
    }
   ],
   "source": [
    "data_train = pd.concat((X_train_clean, y_train), axis=1)\n",
    "data_train.head()"
   ]
  },
  {
   "cell_type": "code",
   "execution_count": 76,
   "id": "f63b9d71-8403-4731-9b06-b50430eae06e",
   "metadata": {},
   "outputs": [
    {
     "data": {
      "text/html": [
       "<div>\n",
       "<style scoped>\n",
       "    .dataframe tbody tr th:only-of-type {\n",
       "        vertical-align: middle;\n",
       "    }\n",
       "\n",
       "    .dataframe tbody tr th {\n",
       "        vertical-align: top;\n",
       "    }\n",
       "\n",
       "    .dataframe thead th {\n",
       "        text-align: right;\n",
       "    }\n",
       "</style>\n",
       "<table border=\"1\" class=\"dataframe\">\n",
       "  <thead>\n",
       "    <tr style=\"text-align: right;\">\n",
       "      <th></th>\n",
       "      <th>Store</th>\n",
       "      <th>Dept</th>\n",
       "      <th>Date</th>\n",
       "      <th>Year</th>\n",
       "      <th>Month</th>\n",
       "      <th>Day</th>\n",
       "      <th>Weekly_Sales</th>\n",
       "    </tr>\n",
       "  </thead>\n",
       "  <tbody>\n",
       "    <tr>\n",
       "      <th>95</th>\n",
       "      <td>1</td>\n",
       "      <td>1</td>\n",
       "      <td>2011-12-02</td>\n",
       "      <td>2011</td>\n",
       "      <td>12</td>\n",
       "      <td>2</td>\n",
       "      <td>25293.49</td>\n",
       "    </tr>\n",
       "    <tr>\n",
       "      <th>96</th>\n",
       "      <td>1</td>\n",
       "      <td>1</td>\n",
       "      <td>2011-12-09</td>\n",
       "      <td>2011</td>\n",
       "      <td>12</td>\n",
       "      <td>9</td>\n",
       "      <td>33305.92</td>\n",
       "    </tr>\n",
       "    <tr>\n",
       "      <th>97</th>\n",
       "      <td>1</td>\n",
       "      <td>1</td>\n",
       "      <td>2011-12-16</td>\n",
       "      <td>2011</td>\n",
       "      <td>12</td>\n",
       "      <td>16</td>\n",
       "      <td>45773.03</td>\n",
       "    </tr>\n",
       "    <tr>\n",
       "      <th>98</th>\n",
       "      <td>1</td>\n",
       "      <td>1</td>\n",
       "      <td>2011-12-23</td>\n",
       "      <td>2011</td>\n",
       "      <td>12</td>\n",
       "      <td>23</td>\n",
       "      <td>46788.75</td>\n",
       "    </tr>\n",
       "    <tr>\n",
       "      <th>99</th>\n",
       "      <td>1</td>\n",
       "      <td>1</td>\n",
       "      <td>2011-12-30</td>\n",
       "      <td>2011</td>\n",
       "      <td>12</td>\n",
       "      <td>30</td>\n",
       "      <td>23350.88</td>\n",
       "    </tr>\n",
       "  </tbody>\n",
       "</table>\n",
       "</div>"
      ],
      "text/plain": [
       "    Store  Dept       Date  Year  Month  Day  Weekly_Sales\n",
       "95      1     1 2011-12-02  2011     12    2      25293.49\n",
       "96      1     1 2011-12-09  2011     12    9      33305.92\n",
       "97      1     1 2011-12-16  2011     12   16      45773.03\n",
       "98      1     1 2011-12-23  2011     12   23      46788.75\n",
       "99      1     1 2011-12-30  2011     12   30      23350.88"
      ]
     },
     "execution_count": 76,
     "metadata": {},
     "output_type": "execute_result"
    }
   ],
   "source": [
    "data_train.tail()"
   ]
  },
  {
   "cell_type": "code",
   "execution_count": 77,
   "id": "7436126d-6e34-4ac5-8c7b-29fd864ad736",
   "metadata": {},
   "outputs": [
    {
     "data": {
      "text/html": [
       "<div>\n",
       "<style scoped>\n",
       "    .dataframe tbody tr th:only-of-type {\n",
       "        vertical-align: middle;\n",
       "    }\n",
       "\n",
       "    .dataframe tbody tr th {\n",
       "        vertical-align: top;\n",
       "    }\n",
       "\n",
       "    .dataframe thead th {\n",
       "        text-align: right;\n",
       "    }\n",
       "</style>\n",
       "<table border=\"1\" class=\"dataframe\">\n",
       "  <thead>\n",
       "    <tr style=\"text-align: right;\">\n",
       "      <th></th>\n",
       "      <th>Store</th>\n",
       "      <th>Dept</th>\n",
       "      <th>Date</th>\n",
       "      <th>Year</th>\n",
       "      <th>Month</th>\n",
       "      <th>Day</th>\n",
       "      <th>Weekly_Sales</th>\n",
       "    </tr>\n",
       "  </thead>\n",
       "  <tbody>\n",
       "    <tr>\n",
       "      <th>100</th>\n",
       "      <td>1</td>\n",
       "      <td>1</td>\n",
       "      <td>2012-01-06</td>\n",
       "      <td>2012</td>\n",
       "      <td>1</td>\n",
       "      <td>6</td>\n",
       "      <td>16567.69</td>\n",
       "    </tr>\n",
       "    <tr>\n",
       "      <th>101</th>\n",
       "      <td>1</td>\n",
       "      <td>1</td>\n",
       "      <td>2012-01-13</td>\n",
       "      <td>2012</td>\n",
       "      <td>1</td>\n",
       "      <td>13</td>\n",
       "      <td>16894.40</td>\n",
       "    </tr>\n",
       "    <tr>\n",
       "      <th>102</th>\n",
       "      <td>1</td>\n",
       "      <td>1</td>\n",
       "      <td>2012-01-20</td>\n",
       "      <td>2012</td>\n",
       "      <td>1</td>\n",
       "      <td>20</td>\n",
       "      <td>18365.10</td>\n",
       "    </tr>\n",
       "    <tr>\n",
       "      <th>103</th>\n",
       "      <td>1</td>\n",
       "      <td>1</td>\n",
       "      <td>2012-01-27</td>\n",
       "      <td>2012</td>\n",
       "      <td>1</td>\n",
       "      <td>27</td>\n",
       "      <td>18378.16</td>\n",
       "    </tr>\n",
       "    <tr>\n",
       "      <th>104</th>\n",
       "      <td>1</td>\n",
       "      <td>1</td>\n",
       "      <td>2012-02-03</td>\n",
       "      <td>2012</td>\n",
       "      <td>2</td>\n",
       "      <td>3</td>\n",
       "      <td>23510.49</td>\n",
       "    </tr>\n",
       "  </tbody>\n",
       "</table>\n",
       "</div>"
      ],
      "text/plain": [
       "     Store  Dept       Date  Year  Month  Day  Weekly_Sales\n",
       "100      1     1 2012-01-06  2012      1    6      16567.69\n",
       "101      1     1 2012-01-13  2012      1   13      16894.40\n",
       "102      1     1 2012-01-20  2012      1   20      18365.10\n",
       "103      1     1 2012-01-27  2012      1   27      18378.16\n",
       "104      1     1 2012-02-03  2012      2    3      23510.49"
      ]
     },
     "execution_count": 77,
     "metadata": {},
     "output_type": "execute_result"
    }
   ],
   "source": [
    "data_test = pd.concat((X_test_clean, y_test), axis=1)\n",
    "data_test.head()"
   ]
  },
  {
   "cell_type": "code",
   "execution_count": 78,
   "id": "4972d290-ad84-4e04-9ffe-1cebc49b893b",
   "metadata": {},
   "outputs": [
    {
     "data": {
      "text/html": [
       "<div>\n",
       "<style scoped>\n",
       "    .dataframe tbody tr th:only-of-type {\n",
       "        vertical-align: middle;\n",
       "    }\n",
       "\n",
       "    .dataframe tbody tr th {\n",
       "        vertical-align: top;\n",
       "    }\n",
       "\n",
       "    .dataframe thead th {\n",
       "        text-align: right;\n",
       "    }\n",
       "</style>\n",
       "<table border=\"1\" class=\"dataframe\">\n",
       "  <thead>\n",
       "    <tr style=\"text-align: right;\">\n",
       "      <th></th>\n",
       "      <th>Store</th>\n",
       "      <th>Dept</th>\n",
       "      <th>Date</th>\n",
       "      <th>Year</th>\n",
       "      <th>Month</th>\n",
       "      <th>Day</th>\n",
       "      <th>Weekly_Sales</th>\n",
       "    </tr>\n",
       "  </thead>\n",
       "  <tbody>\n",
       "    <tr>\n",
       "      <th>100</th>\n",
       "      <td>1</td>\n",
       "      <td>1</td>\n",
       "      <td>2012-01-06</td>\n",
       "      <td>2012</td>\n",
       "      <td>1</td>\n",
       "      <td>6</td>\n",
       "      <td>15816.863281</td>\n",
       "    </tr>\n",
       "    <tr>\n",
       "      <th>101</th>\n",
       "      <td>1</td>\n",
       "      <td>1</td>\n",
       "      <td>2012-01-13</td>\n",
       "      <td>2012</td>\n",
       "      <td>1</td>\n",
       "      <td>13</td>\n",
       "      <td>17847.025391</td>\n",
       "    </tr>\n",
       "    <tr>\n",
       "      <th>102</th>\n",
       "      <td>1</td>\n",
       "      <td>1</td>\n",
       "      <td>2012-01-20</td>\n",
       "      <td>2012</td>\n",
       "      <td>1</td>\n",
       "      <td>20</td>\n",
       "      <td>17521.875000</td>\n",
       "    </tr>\n",
       "    <tr>\n",
       "      <th>103</th>\n",
       "      <td>1</td>\n",
       "      <td>1</td>\n",
       "      <td>2012-01-27</td>\n",
       "      <td>2012</td>\n",
       "      <td>1</td>\n",
       "      <td>27</td>\n",
       "      <td>18404.513672</td>\n",
       "    </tr>\n",
       "    <tr>\n",
       "      <th>104</th>\n",
       "      <td>1</td>\n",
       "      <td>1</td>\n",
       "      <td>2012-02-03</td>\n",
       "      <td>2012</td>\n",
       "      <td>2</td>\n",
       "      <td>3</td>\n",
       "      <td>22029.603516</td>\n",
       "    </tr>\n",
       "  </tbody>\n",
       "</table>\n",
       "</div>"
      ],
      "text/plain": [
       "     Store  Dept       Date  Year  Month  Day  Weekly_Sales\n",
       "100      1     1 2012-01-06  2012      1    6  15816.863281\n",
       "101      1     1 2012-01-13  2012      1   13  17847.025391\n",
       "102      1     1 2012-01-20  2012      1   20  17521.875000\n",
       "103      1     1 2012-01-27  2012      1   27  18404.513672\n",
       "104      1     1 2012-02-03  2012      2    3  22029.603516"
      ]
     },
     "execution_count": 78,
     "metadata": {},
     "output_type": "execute_result"
    }
   ],
   "source": [
    "data_test_pred = pd.concat((X_test_clean, y_test_pred), axis=1)\n",
    "data_test_pred = data_test_pred.rename(columns={0: 'Weekly_Sales'})\n",
    "data_test_pred.head()"
   ]
  },
  {
   "cell_type": "code",
   "execution_count": 79,
   "id": "a6692b49-3567-4cbe-b585-242d963250bf",
   "metadata": {},
   "outputs": [],
   "source": [
    "import matplotlib.pyplot as plt"
   ]
  },
  {
   "cell_type": "code",
   "execution_count": 80,
   "id": "2344d7d8-2a7f-456f-9a26-730899b23f4d",
   "metadata": {},
   "outputs": [
    {
     "data": {
      "image/png": "[encoded data removed]",
      "text/plain": [
       "<Figure size 1000x500 with 1 Axes>"
      ]
     },
     "metadata": {},
     "output_type": "display_data"
    }
   ],
   "source": [
    "# Plot\n",
    "fig, ax = plt.subplots(nrows=1, ncols=1, figsize=(10, 5))\n",
    "\n",
    "data_train.plot(x='Date', y='Weekly_Sales', label='train', ax=ax)\n",
    "data_test.plot(x='Date', y='Weekly_Sales', c='grey', linestyle='--', label='test', ax=ax)\n",
    "data_test_pred.plot(x='Date', y='Weekly_Sales', c='green', label='Prediction: TimeSeries CV', ax=ax)\n",
    "\n",
    "ax.set_ylabel('Sales')\n",
    "plt.legend()\n",
    "plt.show()"
   ]
  },
  {
   "cell_type": "code",
   "execution_count": 395,
   "id": "bb0f7e90-7cfc-4a91-9e3f-42d82b46380f",
   "metadata": {},
   "outputs": [
    {
     "data": {
      "text/plain": [
       "(0.20927012600345582, 0.21424859750089476)"
      ]
     },
     "execution_count": 395,
     "metadata": {},
     "output_type": "execute_result"
    }
   ],
   "source": [
    "ts_cv = mean_absolute_percentage_error(y_test, y_test_pred)\n",
    "kf_cv = mean_absolute_percentage_error(y_test, y_test_gs_pred)\n",
    "ts_cv, kf_cv"
   ]
  }
 ],
 "metadata": {
  "kernelspec": {
   "display_name": "Python 3 (ipykernel)",
   "language": "python",
   "name": "python3"
  },
  "language_info": {
   "codemirror_mode": {
    "name": "ipython",
    "version": 3
   },
   "file_extension": ".py",
   "mimetype": "text/x-python",
   "name": "python",
   "nbconvert_exporter": "python",
   "pygments_lexer": "ipython3",
   "version": "3.10.9"
  }
 },
 "nbformat": 4,
 "nbformat_minor": 5
}

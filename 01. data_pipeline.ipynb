{
 "cells": [
  {
   "cell_type": "code",
   "execution_count": 22,
   "metadata": {},
   "outputs": [],
   "source": [
    "import pandas as pd\n",
    "from src import utils\n",
    "\n",
    "import matplotlib.pyplot as plt\n",
    "%matplotlib inline"
   ]
  },
  {
   "cell_type": "markdown",
   "metadata": {},
   "source": [
    "# Baca File Raw"
   ]
  },
  {
   "cell_type": "code",
   "execution_count": 23,
   "metadata": {},
   "outputs": [
    {
     "data": {
      "text/plain": [
       "{'raw_dataset_path': 'data/raw/sales_history.csv',\n",
       " 'dataset_path': 'data/output/data.pkl',\n",
       " 'dataset_train_path': 'data/output/data_train.pkl',\n",
       " 'dataset_test_path': 'data/output/data_test.pkl',\n",
       " 'X_train_path': 'data/output/X_train.pkl',\n",
       " 'X_train_clean_path': 'data/output/X_train_clean.pkl',\n",
       " 'y_train_path': 'data/output/y_train.pkl',\n",
       " 'X_test_path': 'data/output/X_test.pkl',\n",
       " 'X_test_clean_path': 'data/output/X_test_clean.pkl',\n",
       " 'y_test_path': 'data/output/y_test.pkl',\n",
       " 'datetime_col': 'Date',\n",
       " 'features_col': ['Date'],\n",
       " 'target_col': 'Weekly_Sales',\n",
       " 'last_date_train': '2012-01'}"
      ]
     },
     "execution_count": 23,
     "metadata": {},
     "output_type": "execute_result"
    }
   ],
   "source": [
    "CONFIG_FILE = utils.config_load()\n",
    "CONFIG_FILE"
   ]
  },
  {
   "cell_type": "code",
   "execution_count": 24,
   "metadata": {},
   "outputs": [],
   "source": [
    "def read_data(return_file=False):\n",
    "    \"\"\"Read the history data\"\"\"\n",
    "    # Read & parse data\n",
    "    data = pd.read_csv(CONFIG_FILE['raw_dataset_path'],\n",
    "                       parse_dates = [CONFIG_FILE['datetime_col']])\n",
    "\n",
    "    # Extract metadata\n",
    "    features_col = data.columns.tolist()\n",
    "    classes_col = [col_class.name for col_class in data.dtypes.tolist()]\n",
    "    contents_col = [data[col].head(3).tolist() for col in features_col]\n",
    "    \n",
    "    # Validate\n",
    "    print('Data shape       :', data.shape)\n",
    "    print('Features columns :', features_col)\n",
    "    print('Class columns    :', classes_col)\n",
    "    print('Content columns  :', contents_col)\n",
    "\n",
    "    # Dump data\n",
    "    utils.pickle_dump(data, CONFIG_FILE['dataset_path'])\n",
    "\n",
    "    if return_file:\n",
    "        return data\n",
    "    "
   ]
  },
  {
   "cell_type": "code",
   "execution_count": 25,
   "metadata": {},
   "outputs": [
    {
     "name": "stdout",
     "output_type": "stream",
     "text": [
      "Data shape       : (143, 4)\n",
      "Features columns : ['Store', 'Dept', 'Date', 'Weekly_Sales']\n",
      "Class columns    : ['int64', 'int64', 'datetime64[ns]', 'float64']\n",
      "Content columns  : [[1, 1, 1], [1, 1, 1], [Timestamp('2010-02-05 00:00:00'), Timestamp('2010-02-12 00:00:00'), Timestamp('2010-02-19 00:00:00')], [24924.5, 46039.49, 41595.55]]\n",
      "Data has been dumped to path: data/output/data.pkl\n"
     ]
    },
    {
     "data": {
      "text/html": [
       "<div>\n",
       "<style scoped>\n",
       "    .dataframe tbody tr th:only-of-type {\n",
       "        vertical-align: middle;\n",
       "    }\n",
       "\n",
       "    .dataframe tbody tr th {\n",
       "        vertical-align: top;\n",
       "    }\n",
       "\n",
       "    .dataframe thead th {\n",
       "        text-align: right;\n",
       "    }\n",
       "</style>\n",
       "<table border=\"1\" class=\"dataframe\">\n",
       "  <thead>\n",
       "    <tr style=\"text-align: right;\">\n",
       "      <th></th>\n",
       "      <th>Store</th>\n",
       "      <th>Dept</th>\n",
       "      <th>Date</th>\n",
       "      <th>Weekly_Sales</th>\n",
       "    </tr>\n",
       "  </thead>\n",
       "  <tbody>\n",
       "    <tr>\n",
       "      <th>0</th>\n",
       "      <td>1</td>\n",
       "      <td>1</td>\n",
       "      <td>2010-02-05</td>\n",
       "      <td>24924.50</td>\n",
       "    </tr>\n",
       "    <tr>\n",
       "      <th>1</th>\n",
       "      <td>1</td>\n",
       "      <td>1</td>\n",
       "      <td>2010-02-12</td>\n",
       "      <td>46039.49</td>\n",
       "    </tr>\n",
       "    <tr>\n",
       "      <th>2</th>\n",
       "      <td>1</td>\n",
       "      <td>1</td>\n",
       "      <td>2010-02-19</td>\n",
       "      <td>41595.55</td>\n",
       "    </tr>\n",
       "    <tr>\n",
       "      <th>3</th>\n",
       "      <td>1</td>\n",
       "      <td>1</td>\n",
       "      <td>2010-02-26</td>\n",
       "      <td>19403.54</td>\n",
       "    </tr>\n",
       "    <tr>\n",
       "      <th>4</th>\n",
       "      <td>1</td>\n",
       "      <td>1</td>\n",
       "      <td>2010-03-05</td>\n",
       "      <td>21827.90</td>\n",
       "    </tr>\n",
       "  </tbody>\n",
       "</table>\n",
       "</div>"
      ],
      "text/plain": [
       "   Store  Dept       Date  Weekly_Sales\n",
       "0      1     1 2010-02-05      24924.50\n",
       "1      1     1 2010-02-12      46039.49\n",
       "2      1     1 2010-02-19      41595.55\n",
       "3      1     1 2010-02-26      19403.54\n",
       "4      1     1 2010-03-05      21827.90"
      ]
     },
     "execution_count": 25,
     "metadata": {},
     "output_type": "execute_result"
    }
   ],
   "source": [
    "data = read_data(return_file=True)\n",
    "data.head()"
   ]
  },
  {
   "cell_type": "markdown",
   "metadata": {},
   "source": [
    "# Split Train vs Test"
   ]
  },
  {
   "cell_type": "code",
   "execution_count": 26,
   "metadata": {},
   "outputs": [
    {
     "data": {
      "text/plain": [
       "{'raw_dataset_path': 'data/raw/sales_history.csv',\n",
       " 'dataset_path': 'data/output/data.pkl',\n",
       " 'dataset_train_path': 'data/output/data_train.pkl',\n",
       " 'dataset_test_path': 'data/output/data_test.pkl',\n",
       " 'X_train_path': 'data/output/X_train.pkl',\n",
       " 'X_train_clean_path': 'data/output/X_train_clean.pkl',\n",
       " 'y_train_path': 'data/output/y_train.pkl',\n",
       " 'X_test_path': 'data/output/X_test.pkl',\n",
       " 'X_test_clean_path': 'data/output/X_test_clean.pkl',\n",
       " 'y_test_path': 'data/output/y_test.pkl',\n",
       " 'datetime_col': 'Date',\n",
       " 'features_col': ['Date'],\n",
       " 'target_col': 'Weekly_Sales',\n",
       " 'last_date_train': '2012-01'}"
      ]
     },
     "execution_count": 26,
     "metadata": {},
     "output_type": "execute_result"
    }
   ],
   "source": [
    "CONFIG_FILE = utils.config_load()\n",
    "CONFIG_FILE"
   ]
  },
  {
   "cell_type": "code",
   "execution_count": 27,
   "metadata": {},
   "outputs": [
    {
     "name": "stdout",
     "output_type": "stream",
     "text": [
      "Data train shape : (100, 4)\n",
      "Data test shape  : (43, 4)\n"
     ]
    }
   ],
   "source": [
    "# Split data\n",
    "cond_train = data[CONFIG_FILE['datetime_col']] <= CONFIG_FILE['last_date_train']\n",
    "data_train = data[cond_train]\n",
    "data_test = data[~cond_train]\n",
    "\n",
    "print('Data train shape :', data_train.shape)\n",
    "print('Data test shape  :', data_test.shape)"
   ]
  },
  {
   "cell_type": "code",
   "execution_count": 28,
   "metadata": {},
   "outputs": [],
   "source": [
    "def split_train_test(return_file=False):\n",
    "    \"\"\"Split train & test data\"\"\"\n",
    "    # Load data\n",
    "    data = utils.pickle_load(CONFIG_FILE['dataset_path'])\n",
    "    \n",
    "    # Get the train data conditions\n",
    "    cond_train = data[CONFIG_FILE['datetime_col']] <= CONFIG_FILE['last_date_train']\n",
    "\n",
    "    # Split the data\n",
    "    data_train = data[cond_train]\n",
    "    data_test = data[~cond_train]\n",
    "\n",
    "    # Validate the data\n",
    "    print('Data train shape :', data_train.shape)\n",
    "    print('Data test shape  :', data_test.shape)\n",
    "\n",
    "    # Dump the data\n",
    "    utils.pickle_dump(data_train, CONFIG_FILE['dataset_train_path'])\n",
    "    utils.pickle_dump(data_test, CONFIG_FILE['dataset_test_path'])\n",
    "\n",
    "    if return_file:\n",
    "        return data_train, data_test"
   ]
  },
  {
   "cell_type": "code",
   "execution_count": 29,
   "metadata": {},
   "outputs": [
    {
     "name": "stdout",
     "output_type": "stream",
     "text": [
      "Data train shape : (100, 4)\n",
      "Data test shape  : (43, 4)\n",
      "Data has been dumped to path: data/output/data_train.pkl\n",
      "Data has been dumped to path: data/output/data_test.pkl\n"
     ]
    }
   ],
   "source": [
    "data_train, data_test = split_train_test(return_file=True)"
   ]
  },
  {
   "cell_type": "code",
   "execution_count": 30,
   "metadata": {},
   "outputs": [
    {
     "data": {
      "image/png": "[encoded data removed]",
      "text/plain": [
       "<Figure size 1000x500 with 1 Axes>"
      ]
     },
     "metadata": {},
     "output_type": "display_data"
    }
   ],
   "source": [
    "# Plot\n",
    "fig, ax = plt.subplots(nrows=1, ncols=1, figsize=(10, 5))\n",
    "\n",
    "data_train.plot(x='Date', y='Weekly_Sales', label='train', ax=ax)\n",
    "data_test.plot(x='Date', y='Weekly_Sales', c='red', label='test', ax=ax)\n",
    "\n",
    "plt.legend()\n",
    "plt.show()"
   ]
  },
  {
   "cell_type": "code",
   "execution_count": 31,
   "metadata": {},
   "outputs": [],
   "source": [
    "# Split X & y\n",
    "def split_input_ouput(type, return_file=False):\n",
    "    \"\"\"Split input (X) and output (y)\"\"\"\n",
    "    # Load data\n",
    "    data = utils.pickle_load(CONFIG_FILE[f'dataset_{type}_path'])\n",
    "    \n",
    "    # Split input & output\n",
    "    y = data[CONFIG_FILE['target_col']]\n",
    "    X = data.drop(columns=[CONFIG_FILE['target_col']], axis=1)\n",
    "    \n",
    "    # validate\n",
    "    print('Data input (X) shape  :', X.shape)\n",
    "    print('Data output (y) shape :', y.shape)\n",
    "    \n",
    "    # dump file\n",
    "    utils.pickle_dump(X, CONFIG_FILE[f'X_{type}_path'])\n",
    "    utils.pickle_dump(y, CONFIG_FILE[f'y_{type}_path'])\n",
    "    \n",
    "    if return_file:\n",
    "        return X, y"
   ]
  },
  {
   "cell_type": "code",
   "execution_count": 32,
   "metadata": {},
   "outputs": [
    {
     "name": "stdout",
     "output_type": "stream",
     "text": [
      "Data input (X) shape  : (100, 3)\n",
      "Data output (y) shape : (100,)\n",
      "Data has been dumped to path: data/output/X_train.pkl\n",
      "Data has been dumped to path: data/output/y_train.pkl\n",
      "Data input (X) shape  : (43, 3)\n",
      "Data output (y) shape : (43,)\n",
      "Data has been dumped to path: data/output/X_test.pkl\n",
      "Data has been dumped to path: data/output/y_test.pkl\n"
     ]
    }
   ],
   "source": [
    "X_train, y_train = split_input_ouput(type='train', return_file=True)\n",
    "X_test, y_test = split_input_ouput(type='test', return_file=True)"
   ]
  }
 ],
 "metadata": {
  "kernelspec": {
   "display_name": "Python 3 (ipykernel)",
   "language": "python",
   "name": "python3"
  },
  "language_info": {
   "codemirror_mode": {
    "name": "ipython",
    "version": 3
   },
   "file_extension": ".py",
   "mimetype": "text/x-python",
   "name": "python",
   "nbconvert_exporter": "python",
   "pygments_lexer": "ipython3",
   "version": "3.10.9"
  }
 },
 "nbformat": 4,
 "nbformat_minor": 4
}

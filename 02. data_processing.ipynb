{
 "cells": [
  {
   "cell_type": "code",
   "execution_count": 24,
   "id": "bc5f4ae9-39b2-4549-9ba9-b1410f0de5af",
   "metadata": {},
   "outputs": [],
   "source": [
    "import pandas as pd\n",
    "from src import utils"
   ]
  },
  {
   "cell_type": "markdown",
   "id": "cc0acf5e-5247-46ed-b27a-2a5eaef592df",
   "metadata": {},
   "source": [
    "- Ambil kolom yang penting saja\n",
    "- Maunya buat is_holiday, tapi gak ada data ya sudah."
   ]
  },
  {
   "cell_type": "markdown",
   "id": "076eae51-fb7b-4985-8afb-2b760eca1ecc",
   "metadata": {},
   "source": [
    "# Baca Config"
   ]
  },
  {
   "cell_type": "code",
   "execution_count": 28,
   "id": "c93964ff-f345-412f-bcaf-5613303879d0",
   "metadata": {},
   "outputs": [
    {
     "data": {
      "text/plain": [
       "{'raw_dataset_path': 'data/raw/sales_history.csv',\n",
       " 'dataset_path': 'data/output/data.pkl',\n",
       " 'dataset_train_path': 'data/output/data_train.pkl',\n",
       " 'dataset_test_path': 'data/output/data_test.pkl',\n",
       " 'X_train_path': 'data/output/X_train.pkl',\n",
       " 'X_train_clean_path': 'data/output/X_train_clean.pkl',\n",
       " 'y_train_path': 'data/output/y_train.pkl',\n",
       " 'X_test_path': 'data/output/X_test.pkl',\n",
       " 'X_test_clean_path': 'data/output/X_test_clean.pkl',\n",
       " 'y_test_path': 'data/output/y_test.pkl',\n",
       " 'datetime_col': 'Date',\n",
       " 'features_col': ['Year', 'Month', 'Day'],\n",
       " 'target_col': 'Weekly_Sales',\n",
       " 'last_date_train': '2012-01'}"
      ]
     },
     "execution_count": 28,
     "metadata": {},
     "output_type": "execute_result"
    }
   ],
   "source": [
    "CONFIG_FILE = utils.config_load()\n",
    "CONFIG_FILE"
   ]
  },
  {
   "cell_type": "code",
   "execution_count": 29,
   "id": "9232bd65-63af-46aa-abb4-b85d2e49246c",
   "metadata": {},
   "outputs": [],
   "source": [
    "def preprocess_data(\n",
    "    data=None, \n",
    "    type=None, \n",
    "    CONFIG_FILE=None, \n",
    "    return_file=False):\n",
    "    \"\"\"preprocess the data\"\"\"\n",
    "    # load the data\n",
    "    if type is not None:\n",
    "        fname = CONFIG_FILE[f'X_{type}_path']\n",
    "        data = utils.pickle_load(fname)\n",
    "        \n",
    "        # Validate\n",
    "        print(f'Data on {fname} has been loaded')\n",
    "        print('Data shape :', data.shape)\n",
    "        \n",
    "    # Extract date\n",
    "    data['Year'] = data['Date'].dt.year\n",
    "    data['Month'] = data['Date'].dt.month\n",
    "    data['Day'] = data['Date'].dt.day\n",
    "    \n",
    "    # Validate\n",
    "    print('Data shape:', data.shape)\n",
    "    \n",
    "    # Dump data\n",
    "    if type is not None:\n",
    "        utils.pickle_dump(data, CONFIG_FILE[f'X_{type}_clean_path'])\n",
    "    \n",
    "    if return_file:\n",
    "        return data\n",
    "    "
   ]
  },
  {
   "cell_type": "code",
   "execution_count": 30,
   "id": "7b4b74c4-3c6b-4ba2-a6ec-c014f462f46e",
   "metadata": {},
   "outputs": [
    {
     "name": "stdout",
     "output_type": "stream",
     "text": [
      "Data on data/output/X_train.pkl has been loaded\n",
      "Data shape : (100, 3)\n",
      "Data shape: (100, 6)\n",
      "Data has been dumped to path: data/output/X_train_clean.pkl\n"
     ]
    },
    {
     "data": {
      "text/html": [
       "<div>\n",
       "<style scoped>\n",
       "    .dataframe tbody tr th:only-of-type {\n",
       "        vertical-align: middle;\n",
       "    }\n",
       "\n",
       "    .dataframe tbody tr th {\n",
       "        vertical-align: top;\n",
       "    }\n",
       "\n",
       "    .dataframe thead th {\n",
       "        text-align: right;\n",
       "    }\n",
       "</style>\n",
       "<table border=\"1\" class=\"dataframe\">\n",
       "  <thead>\n",
       "    <tr style=\"text-align: right;\">\n",
       "      <th></th>\n",
       "      <th>Store</th>\n",
       "      <th>Dept</th>\n",
       "      <th>Date</th>\n",
       "      <th>Year</th>\n",
       "      <th>Month</th>\n",
       "      <th>Day</th>\n",
       "    </tr>\n",
       "  </thead>\n",
       "  <tbody>\n",
       "    <tr>\n",
       "      <th>0</th>\n",
       "      <td>1</td>\n",
       "      <td>1</td>\n",
       "      <td>2010-02-05</td>\n",
       "      <td>2010</td>\n",
       "      <td>2</td>\n",
       "      <td>5</td>\n",
       "    </tr>\n",
       "    <tr>\n",
       "      <th>1</th>\n",
       "      <td>1</td>\n",
       "      <td>1</td>\n",
       "      <td>2010-02-12</td>\n",
       "      <td>2010</td>\n",
       "      <td>2</td>\n",
       "      <td>12</td>\n",
       "    </tr>\n",
       "    <tr>\n",
       "      <th>2</th>\n",
       "      <td>1</td>\n",
       "      <td>1</td>\n",
       "      <td>2010-02-19</td>\n",
       "      <td>2010</td>\n",
       "      <td>2</td>\n",
       "      <td>19</td>\n",
       "    </tr>\n",
       "    <tr>\n",
       "      <th>3</th>\n",
       "      <td>1</td>\n",
       "      <td>1</td>\n",
       "      <td>2010-02-26</td>\n",
       "      <td>2010</td>\n",
       "      <td>2</td>\n",
       "      <td>26</td>\n",
       "    </tr>\n",
       "    <tr>\n",
       "      <th>4</th>\n",
       "      <td>1</td>\n",
       "      <td>1</td>\n",
       "      <td>2010-03-05</td>\n",
       "      <td>2010</td>\n",
       "      <td>3</td>\n",
       "      <td>5</td>\n",
       "    </tr>\n",
       "  </tbody>\n",
       "</table>\n",
       "</div>"
      ],
      "text/plain": [
       "   Store  Dept       Date  Year  Month  Day\n",
       "0      1     1 2010-02-05  2010      2    5\n",
       "1      1     1 2010-02-12  2010      2   12\n",
       "2      1     1 2010-02-19  2010      2   19\n",
       "3      1     1 2010-02-26  2010      2   26\n",
       "4      1     1 2010-03-05  2010      3    5"
      ]
     },
     "execution_count": 30,
     "metadata": {},
     "output_type": "execute_result"
    }
   ],
   "source": [
    "X_train_clean = preprocess_data(type='train', \n",
    "                                CONFIG_FILE=CONFIG_FILE,\n",
    "                                return_file=True)\n",
    "\n",
    "X_train_clean.head()"
   ]
  },
  {
   "cell_type": "code",
   "execution_count": 31,
   "id": "9ee4f56a-cbe4-4e76-8e63-e1e1647c36c6",
   "metadata": {},
   "outputs": [
    {
     "name": "stdout",
     "output_type": "stream",
     "text": [
      "Data on data/output/X_test.pkl has been loaded\n",
      "Data shape : (43, 3)\n",
      "Data shape: (43, 6)\n",
      "Data has been dumped to path: data/output/X_test_clean.pkl\n"
     ]
    },
    {
     "data": {
      "text/html": [
       "<div>\n",
       "<style scoped>\n",
       "    .dataframe tbody tr th:only-of-type {\n",
       "        vertical-align: middle;\n",
       "    }\n",
       "\n",
       "    .dataframe tbody tr th {\n",
       "        vertical-align: top;\n",
       "    }\n",
       "\n",
       "    .dataframe thead th {\n",
       "        text-align: right;\n",
       "    }\n",
       "</style>\n",
       "<table border=\"1\" class=\"dataframe\">\n",
       "  <thead>\n",
       "    <tr style=\"text-align: right;\">\n",
       "      <th></th>\n",
       "      <th>Store</th>\n",
       "      <th>Dept</th>\n",
       "      <th>Date</th>\n",
       "      <th>Year</th>\n",
       "      <th>Month</th>\n",
       "      <th>Day</th>\n",
       "    </tr>\n",
       "  </thead>\n",
       "  <tbody>\n",
       "    <tr>\n",
       "      <th>100</th>\n",
       "      <td>1</td>\n",
       "      <td>1</td>\n",
       "      <td>2012-01-06</td>\n",
       "      <td>2012</td>\n",
       "      <td>1</td>\n",
       "      <td>6</td>\n",
       "    </tr>\n",
       "    <tr>\n",
       "      <th>101</th>\n",
       "      <td>1</td>\n",
       "      <td>1</td>\n",
       "      <td>2012-01-13</td>\n",
       "      <td>2012</td>\n",
       "      <td>1</td>\n",
       "      <td>13</td>\n",
       "    </tr>\n",
       "    <tr>\n",
       "      <th>102</th>\n",
       "      <td>1</td>\n",
       "      <td>1</td>\n",
       "      <td>2012-01-20</td>\n",
       "      <td>2012</td>\n",
       "      <td>1</td>\n",
       "      <td>20</td>\n",
       "    </tr>\n",
       "    <tr>\n",
       "      <th>103</th>\n",
       "      <td>1</td>\n",
       "      <td>1</td>\n",
       "      <td>2012-01-27</td>\n",
       "      <td>2012</td>\n",
       "      <td>1</td>\n",
       "      <td>27</td>\n",
       "    </tr>\n",
       "    <tr>\n",
       "      <th>104</th>\n",
       "      <td>1</td>\n",
       "      <td>1</td>\n",
       "      <td>2012-02-03</td>\n",
       "      <td>2012</td>\n",
       "      <td>2</td>\n",
       "      <td>3</td>\n",
       "    </tr>\n",
       "  </tbody>\n",
       "</table>\n",
       "</div>"
      ],
      "text/plain": [
       "     Store  Dept       Date  Year  Month  Day\n",
       "100      1     1 2012-01-06  2012      1    6\n",
       "101      1     1 2012-01-13  2012      1   13\n",
       "102      1     1 2012-01-20  2012      1   20\n",
       "103      1     1 2012-01-27  2012      1   27\n",
       "104      1     1 2012-02-03  2012      2    3"
      ]
     },
     "execution_count": 31,
     "metadata": {},
     "output_type": "execute_result"
    }
   ],
   "source": [
    "X_test_clean = preprocess_data(type='test', \n",
    "                               CONFIG_FILE=CONFIG_FILE,\n",
    "                               return_file=True)\n",
    "\n",
    "X_test_clean.head()"
   ]
  },
  {
   "cell_type": "code",
   "execution_count": null,
   "metadata": {},
   "outputs": [],
   "source": []
  }
 ],
 "metadata": {
  "kernelspec": {
   "display_name": "Python 3 (ipykernel)",
   "language": "python",
   "name": "python3"
  },
  "language_info": {
   "codemirror_mode": {
    "name": "ipython",
    "version": 3
   },
   "file_extension": ".py",
   "mimetype": "text/x-python",
   "name": "python",
   "nbconvert_exporter": "python",
   "pygments_lexer": "ipython3",
   "version": "3.10.9"
  }
 },
 "nbformat": 4,
 "nbformat_minor": 5
}
